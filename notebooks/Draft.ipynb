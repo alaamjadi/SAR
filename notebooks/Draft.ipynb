{
 "cells": [
  {
   "cell_type": "code",
   "execution_count": null,
   "metadata": {},
   "outputs": [],
   "source": [
    "sub = '192.168.1.1/8'.split('/')\n",
    "ip = sub[0]\n",
    "netmask = int(sub[1])\n",
    "print (''.join([bin(int(x)+256)[3:] for x in ip.split('.')])[:netmask])"
   ]
  },
  {
   "cell_type": "code",
   "execution_count": 3,
   "metadata": {},
   "outputs": [],
   "source": [
    "import random\n",
    "\n",
    "def generate_random_ip():\n",
    "    return \".\".join(map(str, (random.randint(0, 255) for _ in range(4))))\n",
    "\n",
    "def packet_generator():\n",
    "    src_ip = generate_random_ip()\n",
    "    dst_ip = generate_random_ip()\n",
    "    protocol = random.randint(0, 255)\n",
    "        \n",
    "    src_port = random.randint(0, 65535)\n",
    "    dst_port = random.randint(0, 65535)\n",
    "    \n",
    "    return \"%s,%s,%s,%d,%d\" % (src_ip, dst_ip, protocol, src_port, dst_port)"
   ]
  },
  {
   "cell_type": "code",
   "execution_count": 5,
   "metadata": {},
   "outputs": [
    {
     "name": "stdout",
     "output_type": "stream",
     "text": [
      "93.95.132.43,243.6.215.120,6,49893,7024\n"
     ]
    }
   ],
   "source": [
    "print(packet_generator())"
   ]
  },
  {
   "cell_type": "code",
   "execution_count": null,
   "metadata": {},
   "outputs": [],
   "source": []
  },
  {
   "cell_type": "code",
   "execution_count": null,
   "metadata": {},
   "outputs": [],
   "source": []
  }
 ],
 "metadata": {
  "kernelspec": {
   "display_name": "Python 3",
   "language": "python",
   "name": "python3"
  },
  "language_info": {
   "codemirror_mode": {
    "name": "ipython",
    "version": 3
   },
   "file_extension": ".py",
   "mimetype": "text/x-python",
   "name": "python",
   "nbconvert_exporter": "python",
   "pygments_lexer": "ipython3",
   "version": "3.7.9"
  }
 },
 "nbformat": 4,
 "nbformat_minor": 4
}
